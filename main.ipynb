{
 "cells": [
  {
   "cell_type": "code",
   "execution_count": 1,
   "metadata": {},
   "outputs": [],
   "source": [
    "# Ministry of Mines Auction Database URL\n",
    "url = 'https://mines.gov.in/webportal/content/archived/successful-auction-since-2015-6194'"
   ]
  },
  {
   "cell_type": "code",
   "execution_count": 6,
   "metadata": {},
   "outputs": [],
   "source": [
    "# importing Library \n",
    "from selenium import webdriver\n",
    "from selenium.webdriver.chrome.service import Service\n",
    "from selenium.webdriver.chrome.options import Options\n",
    "from webdriver_manager.chrome import ChromeDriverManager\n",
    "from selenium.webdriver.common.by import By\n",
    "import time\n",
    "import pandas as pd\n",
    "from datetime import datetime\n",
    "import numpy as np\n",
    "from sqlalchemy import create_engine, Column, Integer, String, Float, Date, MetaData, Table\n",
    "from sqlalchemy.ext.declarative import declarative_base\n",
    "from sqlalchemy.orm import sessionmaker\n",
    "import pandas as pd\n",
    "import os\n",
    "from dotenv import load_dotenv\n",
    "import math"
   ]
  },
  {
   "cell_type": "code",
   "execution_count": 7,
   "metadata": {},
   "outputs": [],
   "source": [
    "# triggering the chrome testing browser\n",
    "chrome_options = Options()\n",
    "chrome_options.use_chromium = True\n",
    "\n",
    "driver = webdriver.Chrome(service=Service(ChromeDriverManager().install()), options=chrome_options)\n",
    "driver.get(url)"
   ]
  },
  {
   "cell_type": "code",
   "execution_count": 8,
   "metadata": {},
   "outputs": [],
   "source": [
    "headers = ['state_name','name_of_the_block','mineral','auction_date', 'ml_or_cl', 'area_in_hectare',\n",
    "          'final_bid_in_per_cent','preferred_bidder']"
   ]
  },
  {
   "cell_type": "code",
   "execution_count": null,
   "metadata": {},
   "outputs": [],
   "source": [
    "def convert_date(date_str):\n",
    "    try:\n",
    "        date_obj = datetime.strptime(date_str, '%d.%m.%Y')\n",
    "        return date_obj.strftime('%Y-%m-%d')\n",
    "    except ValueError:\n",
    "        try:\n",
    "            date_obj = datetime.strptime(date_str, '%d-%m-%Y')\n",
    "            return date_obj.strftime('%Y-%m-%d')\n",
    "        except ValueError:\n",
    "            date_obj = datetime.strptime(date_str, '%d%m.%Y.')\n",
    "            return date_obj.strftime('%Y-%m-%d')"
   ]
  },
  {
   "cell_type": "code",
   "execution_count": null,
   "metadata": {},
   "outputs": [],
   "source": [
    "table_rows = driver.find_element(By.TAG_NAME,'tbody').find_elements(By.TAG_NAME, 'tr')\n",
    "auction_data = []\n",
    "for row in table_rows[3:]:\n",
    "    cells = []\n",
    "    data = row.find_elements(By.TAG_NAME,'td')[1:]\n",
    "    \n",
    "    if len(data) == 9:\n",
    "        \n",
    "        cells.append(data[0].text)\n",
    "        cells.append(data[1].text)\n",
    "        cells.append(data[2].text)\n",
    "        \n",
    "        # converting auction date from DD.MM.YYYY format to YYYY-MM-DD format\n",
    "        x = convert_date(data[3].text)\n",
    "        cells.append(x)\n",
    "        cells.append(data[4].text)\n",
    "        try:\n",
    "            # Try to convert the text to a float\n",
    "            value = float(data[5].text)\n",
    "            cells.append(value)\n",
    "        except ValueError:\n",
    "            # If conversion fails, append NaN\n",
    "            cells.append(np.nan)\n",
    "        \n",
    "        # try:\n",
    "        #     # Try to convert the text to a float\n",
    "        #     value = float(data[6].text)\n",
    "        #     cells.append(value)\n",
    "        # except ValueError:\n",
    "        #     # If conversion fails, append NaN\n",
    "        #     cells.append(np.nan)\n",
    "        cells.append(float(data[7].text))\n",
    "        cells.append(data[8].text)\n",
    "        \n",
    "        # cells = [data.text for data in row.find_elements(By.TAG_NAME,'td')[1:]]\n",
    "        auction_data.append(cells)"
   ]
  },
  {
   "cell_type": "code",
   "execution_count": null,
   "metadata": {},
   "outputs": [],
   "source": [
    "row.text"
   ]
  },
  {
   "cell_type": "code",
   "execution_count": null,
   "metadata": {},
   "outputs": [],
   "source": [
    "df = pd.DataFrame(auction_data, columns = headers)"
   ]
  },
  {
   "cell_type": "code",
   "execution_count": null,
   "metadata": {},
   "outputs": [],
   "source": [
    "df.head(5)"
   ]
  },
  {
   "cell_type": "code",
   "execution_count": null,
   "metadata": {},
   "outputs": [],
   "source": [
    "# Save it in postgres database\n",
    "\n",
    "from sqlalchemy import create_engine, Column, Integer, String, Float, Date, MetaData, Table\n",
    "from sqlalchemy.ext.declarative import declarative_base\n",
    "from sqlalchemy.orm import sessionmaker\n",
    "import pandas as pd\n",
    "import os\n",
    "from dotenv import load_dotenv\n",
    "import math\n",
    "\n",
    "# Load environment variables\n",
    "load_dotenv(override=True)\n",
    "\n",
    "# Define the PostgreSQL connection string\n",
    "connection_string = os.getenv('POSTGRES_DB_URL')\n",
    "\n",
    "# Create the SQLAlchemy engine for PostgreSQL\n",
    "engine = create_engine(connection_string)\n",
    "\n",
    "# Define the base for the declarative mapping\n",
    "Base = declarative_base()\n",
    "\n",
    "# Define the table schema for PostgreSQL\n",
    "class AuctionData(Base):\n",
    "    __tablename__ = 'mom_auction'\n",
    "    id = Column(Integer, primary_key=True, autoincrement=True)  # Auto-incrementing ID\n",
    "    state_name = Column(String(255))\n",
    "    name_of_the_block = Column(String(255))\n",
    "    mineral = Column(String(255))\n",
    "    auction_date = Column(Date)\n",
    "    ml_or_cl = Column(String(10))\n",
    "    area_in_hectare = Column(Float)\n",
    "    final_bid_in_per_cent = Column(Float)\n",
    "    preferred_bidder = Column(String(255))\n",
    "\n",
    "# Create the table in the PostgreSQL database\n",
    "Base.metadata.create_all(engine)\n",
    "\n",
    "# Prepare your DataFrame (scraped data already processed in df)\n",
    "\n",
    "# Define a session to interact with the PostgreSQL database\n",
    "Session = sessionmaker(bind=engine)\n",
    "session = Session()\n",
    "\n",
    "# Convert the DataFrame to a list of dictionaries, compatible with SQLAlchemy ORM\n",
    "auction_data_dicts = df.to_dict(orient='records')\n",
    "\n",
    "# Insert data into the auction_data table\n",
    "for record in auction_data_dicts:\n",
    "    # Replace nan with None for PostgreSQL compatibility\n",
    "    record = {key: (None if (isinstance(value, float) and math.isnan(value)) else value) \n",
    "              for key, value in record.items()}\n",
    "    \n",
    "    auction_entry = AuctionData(**record)  # Unpack the dictionary into the ORM object\n",
    "    session.add(auction_entry)\n",
    "\n",
    "# Commit the transaction\n",
    "session.commit()\n",
    "\n",
    "print(\"Data inserted successfully into PostgreSQL!\")\n",
    "\n",
    "# Close the session\n",
    "session.close()"
   ]
  }
 ],
 "metadata": {
  "kernelspec": {
   "display_name": "myenv",
   "language": "python",
   "name": "python3"
  },
  "language_info": {
   "codemirror_mode": {
    "name": "ipython",
    "version": 3
   },
   "file_extension": ".py",
   "mimetype": "text/x-python",
   "name": "python",
   "nbconvert_exporter": "python",
   "pygments_lexer": "ipython3",
   "version": "3.13.1"
  }
 },
 "nbformat": 4,
 "nbformat_minor": 2
}
