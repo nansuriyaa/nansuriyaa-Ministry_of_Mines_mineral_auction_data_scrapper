{
 "cells": [
  {
   "cell_type": "code",
   "execution_count": 6,
   "metadata": {},
   "outputs": [],
   "source": [
    "# Ministry of Mines Auction Database URL\n",
    "# url = 'https://mines.gov.in/webportal/content/archived/successful-auction-since-2015-6194' -- Depreciated\n",
    "url = 'https://mines.gov.in/webportal/content/archived/sucessfully-auction-since-2015-6715'"
   ]
  },
  {
   "cell_type": "code",
   "execution_count": 7,
   "metadata": {},
   "outputs": [],
   "source": [
    "# importing Library \n",
    "from selenium import webdriver\n",
    "from selenium.webdriver.chrome.service import Service\n",
    "from selenium.webdriver.chrome.options import Options\n",
    "from webdriver_manager.chrome import ChromeDriverManager\n",
    "from selenium.webdriver.common.by import By\n",
    "import time\n",
    "import pandas as pd\n",
    "from datetime import datetime\n",
    "import numpy as np\n",
    "from sqlalchemy import create_engine, Column, Integer, String, Float, Date, MetaData, Table\n",
    "from sqlalchemy.ext.declarative import declarative_base\n",
    "from sqlalchemy.orm import sessionmaker\n",
    "import pandas as pd\n",
    "import os\n",
    "from dotenv import load_dotenv\n",
    "import math"
   ]
  },
  {
   "cell_type": "code",
   "execution_count": 8,
   "metadata": {},
   "outputs": [],
   "source": [
    "# triggering the chrome testing browser\n",
    "chrome_options = Options()\n",
    "chrome_options.use_chromium = True\n",
    "\n",
    "driver = webdriver.Chrome(service=Service(ChromeDriverManager().install()), options=chrome_options)\n",
    "driver.get(url)"
   ]
  },
  {
   "cell_type": "code",
   "execution_count": 9,
   "metadata": {},
   "outputs": [],
   "source": [
    "headers = ['state_name','name_of_the_block','mineral','auction_date', 'ml_or_cl', 'area_in_hectare',\n",
    "          'final_bid_in_per_cent','preferred_bidder']"
   ]
  },
  {
   "cell_type": "code",
   "execution_count": 10,
   "metadata": {},
   "outputs": [],
   "source": [
    "def convert_date(date_str):\n",
    "    try:\n",
    "        date_obj = datetime.strptime(date_str, '%d.%m.%Y')\n",
    "        return date_obj.strftime('%Y-%m-%d')\n",
    "    except ValueError:\n",
    "        try:\n",
    "            date_obj = datetime.strptime(date_str, '%d-%m-%Y')\n",
    "            return date_obj.strftime('%Y-%m-%d')\n",
    "        except ValueError:\n",
    "            date_obj = datetime.strptime(date_str, '%d%m.%Y.')\n",
    "            return date_obj.strftime('%Y-%m-%d')"
   ]
  },
  {
   "cell_type": "code",
   "execution_count": 13,
   "metadata": {},
   "outputs": [
    {
     "ename": "WebDriverException",
     "evalue": "Message: disconnected: not connected to DevTools\n  (failed to check if window was closed: disconnected: not connected to DevTools)\n  (Session info: chrome=131.0.6778.205)\nStacktrace:\n0   chromedriver                        0x0000000104d4f184 cxxbridge1$str$ptr + 3626716\n1   chromedriver                        0x0000000104d479d4 cxxbridge1$str$ptr + 3596076\n2   chromedriver                        0x00000001047b4968 cxxbridge1$string$len + 89228\n3   chromedriver                        0x000000010479e8d4 core::str::slice_error_fail::ha0e52dbcb60e6bae + 63828\n4   chromedriver                        0x000000010479e804 core::str::slice_error_fail::ha0e52dbcb60e6bae + 63620\n5   chromedriver                        0x0000000104831c40 cxxbridge1$string$len + 601956\n6   chromedriver                        0x00000001047ed568 cxxbridge1$string$len + 321676\n7   chromedriver                        0x00000001047ee1b8 cxxbridge1$string$len + 324828\n8   chromedriver                        0x0000000104d1a9ac cxxbridge1$str$ptr + 3411716\n9   chromedriver                        0x0000000104d1dccc cxxbridge1$str$ptr + 3424804\n10  chromedriver                        0x0000000104d0186c cxxbridge1$str$ptr + 3308996\n11  chromedriver                        0x0000000104d1e58c cxxbridge1$str$ptr + 3427044\n12  chromedriver                        0x0000000104cf309c cxxbridge1$str$ptr + 3249652\n13  chromedriver                        0x0000000104d384b8 cxxbridge1$str$ptr + 3533328\n14  chromedriver                        0x0000000104d38634 cxxbridge1$str$ptr + 3533708\n15  chromedriver                        0x0000000104d47648 cxxbridge1$str$ptr + 3595168\n16  libsystem_pthread.dylib             0x000000018c26c2e4 _pthread_start + 136\n17  libsystem_pthread.dylib             0x000000018c2670fc thread_start + 8\n",
     "output_type": "error",
     "traceback": [
      "\u001b[0;31m---------------------------------------------------------------------------\u001b[0m",
      "\u001b[0;31mWebDriverException\u001b[0m                        Traceback (most recent call last)",
      "Cell \u001b[0;32mIn[13], line 1\u001b[0m\n\u001b[0;32m----> 1\u001b[0m table_rows \u001b[38;5;241m=\u001b[39m \u001b[43mdriver\u001b[49m\u001b[38;5;241;43m.\u001b[39;49m\u001b[43mfind_element\u001b[49m\u001b[43m(\u001b[49m\u001b[43mBy\u001b[49m\u001b[38;5;241;43m.\u001b[39;49m\u001b[43mTAG_NAME\u001b[49m\u001b[43m,\u001b[49m\u001b[38;5;124;43m'\u001b[39;49m\u001b[38;5;124;43mtbody\u001b[39;49m\u001b[38;5;124;43m'\u001b[39;49m\u001b[43m)\u001b[49m\u001b[38;5;241m.\u001b[39mfind_elements(By\u001b[38;5;241m.\u001b[39mTAG_NAME, \u001b[38;5;124m'\u001b[39m\u001b[38;5;124mtr\u001b[39m\u001b[38;5;124m'\u001b[39m)\n\u001b[1;32m      2\u001b[0m auction_data \u001b[38;5;241m=\u001b[39m []\n\u001b[1;32m      3\u001b[0m \u001b[38;5;28;01mfor\u001b[39;00m row \u001b[38;5;129;01min\u001b[39;00m table_rows[\u001b[38;5;241m3\u001b[39m:]:\n",
      "File \u001b[0;32m~/Documents/Scrapping Tools/MoM_non_coal_block_auction/myenv/lib/python3.13/site-packages/selenium/webdriver/remote/webdriver.py:770\u001b[0m, in \u001b[0;36mWebDriver.find_element\u001b[0;34m(self, by, value)\u001b[0m\n\u001b[1;32m    767\u001b[0m         \u001b[38;5;28;01mraise\u001b[39;00m NoSuchElementException(\u001b[38;5;124mf\u001b[39m\u001b[38;5;124m\"\u001b[39m\u001b[38;5;124mCannot locate relative element with: \u001b[39m\u001b[38;5;132;01m{\u001b[39;00mby\u001b[38;5;241m.\u001b[39mroot\u001b[38;5;132;01m}\u001b[39;00m\u001b[38;5;124m\"\u001b[39m)\n\u001b[1;32m    768\u001b[0m     \u001b[38;5;28;01mreturn\u001b[39;00m elements[\u001b[38;5;241m0\u001b[39m]\n\u001b[0;32m--> 770\u001b[0m \u001b[38;5;28;01mreturn\u001b[39;00m \u001b[38;5;28;43mself\u001b[39;49m\u001b[38;5;241;43m.\u001b[39;49m\u001b[43mexecute\u001b[49m\u001b[43m(\u001b[49m\u001b[43mCommand\u001b[49m\u001b[38;5;241;43m.\u001b[39;49m\u001b[43mFIND_ELEMENT\u001b[49m\u001b[43m,\u001b[49m\u001b[43m \u001b[49m\u001b[43m{\u001b[49m\u001b[38;5;124;43m\"\u001b[39;49m\u001b[38;5;124;43musing\u001b[39;49m\u001b[38;5;124;43m\"\u001b[39;49m\u001b[43m:\u001b[49m\u001b[43m \u001b[49m\u001b[43mby\u001b[49m\u001b[43m,\u001b[49m\u001b[43m \u001b[49m\u001b[38;5;124;43m\"\u001b[39;49m\u001b[38;5;124;43mvalue\u001b[39;49m\u001b[38;5;124;43m\"\u001b[39;49m\u001b[43m:\u001b[49m\u001b[43m \u001b[49m\u001b[43mvalue\u001b[49m\u001b[43m}\u001b[49m\u001b[43m)\u001b[49m[\u001b[38;5;124m\"\u001b[39m\u001b[38;5;124mvalue\u001b[39m\u001b[38;5;124m\"\u001b[39m]\n",
      "File \u001b[0;32m~/Documents/Scrapping Tools/MoM_non_coal_block_auction/myenv/lib/python3.13/site-packages/selenium/webdriver/remote/webdriver.py:384\u001b[0m, in \u001b[0;36mWebDriver.execute\u001b[0;34m(self, driver_command, params)\u001b[0m\n\u001b[1;32m    382\u001b[0m response \u001b[38;5;241m=\u001b[39m \u001b[38;5;28mself\u001b[39m\u001b[38;5;241m.\u001b[39mcommand_executor\u001b[38;5;241m.\u001b[39mexecute(driver_command, params)\n\u001b[1;32m    383\u001b[0m \u001b[38;5;28;01mif\u001b[39;00m response:\n\u001b[0;32m--> 384\u001b[0m     \u001b[38;5;28;43mself\u001b[39;49m\u001b[38;5;241;43m.\u001b[39;49m\u001b[43merror_handler\u001b[49m\u001b[38;5;241;43m.\u001b[39;49m\u001b[43mcheck_response\u001b[49m\u001b[43m(\u001b[49m\u001b[43mresponse\u001b[49m\u001b[43m)\u001b[49m\n\u001b[1;32m    385\u001b[0m     response[\u001b[38;5;124m\"\u001b[39m\u001b[38;5;124mvalue\u001b[39m\u001b[38;5;124m\"\u001b[39m] \u001b[38;5;241m=\u001b[39m \u001b[38;5;28mself\u001b[39m\u001b[38;5;241m.\u001b[39m_unwrap_value(response\u001b[38;5;241m.\u001b[39mget(\u001b[38;5;124m\"\u001b[39m\u001b[38;5;124mvalue\u001b[39m\u001b[38;5;124m\"\u001b[39m, \u001b[38;5;28;01mNone\u001b[39;00m))\n\u001b[1;32m    386\u001b[0m     \u001b[38;5;28;01mreturn\u001b[39;00m response\n",
      "File \u001b[0;32m~/Documents/Scrapping Tools/MoM_non_coal_block_auction/myenv/lib/python3.13/site-packages/selenium/webdriver/remote/errorhandler.py:232\u001b[0m, in \u001b[0;36mErrorHandler.check_response\u001b[0;34m(self, response)\u001b[0m\n\u001b[1;32m    230\u001b[0m         alert_text \u001b[38;5;241m=\u001b[39m value[\u001b[38;5;124m\"\u001b[39m\u001b[38;5;124malert\u001b[39m\u001b[38;5;124m\"\u001b[39m]\u001b[38;5;241m.\u001b[39mget(\u001b[38;5;124m\"\u001b[39m\u001b[38;5;124mtext\u001b[39m\u001b[38;5;124m\"\u001b[39m)\n\u001b[1;32m    231\u001b[0m     \u001b[38;5;28;01mraise\u001b[39;00m exception_class(message, screen, stacktrace, alert_text)  \u001b[38;5;66;03m# type: ignore[call-arg]  # mypy is not smart enough here\u001b[39;00m\n\u001b[0;32m--> 232\u001b[0m \u001b[38;5;28;01mraise\u001b[39;00m exception_class(message, screen, stacktrace)\n",
      "\u001b[0;31mWebDriverException\u001b[0m: Message: disconnected: not connected to DevTools\n  (failed to check if window was closed: disconnected: not connected to DevTools)\n  (Session info: chrome=131.0.6778.205)\nStacktrace:\n0   chromedriver                        0x0000000104d4f184 cxxbridge1$str$ptr + 3626716\n1   chromedriver                        0x0000000104d479d4 cxxbridge1$str$ptr + 3596076\n2   chromedriver                        0x00000001047b4968 cxxbridge1$string$len + 89228\n3   chromedriver                        0x000000010479e8d4 core::str::slice_error_fail::ha0e52dbcb60e6bae + 63828\n4   chromedriver                        0x000000010479e804 core::str::slice_error_fail::ha0e52dbcb60e6bae + 63620\n5   chromedriver                        0x0000000104831c40 cxxbridge1$string$len + 601956\n6   chromedriver                        0x00000001047ed568 cxxbridge1$string$len + 321676\n7   chromedriver                        0x00000001047ee1b8 cxxbridge1$string$len + 324828\n8   chromedriver                        0x0000000104d1a9ac cxxbridge1$str$ptr + 3411716\n9   chromedriver                        0x0000000104d1dccc cxxbridge1$str$ptr + 3424804\n10  chromedriver                        0x0000000104d0186c cxxbridge1$str$ptr + 3308996\n11  chromedriver                        0x0000000104d1e58c cxxbridge1$str$ptr + 3427044\n12  chromedriver                        0x0000000104cf309c cxxbridge1$str$ptr + 3249652\n13  chromedriver                        0x0000000104d384b8 cxxbridge1$str$ptr + 3533328\n14  chromedriver                        0x0000000104d38634 cxxbridge1$str$ptr + 3533708\n15  chromedriver                        0x0000000104d47648 cxxbridge1$str$ptr + 3595168\n16  libsystem_pthread.dylib             0x000000018c26c2e4 _pthread_start + 136\n17  libsystem_pthread.dylib             0x000000018c2670fc thread_start + 8\n"
     ]
    }
   ],
   "source": [
    "table_rows = driver.find_element(By.TAG_NAME,'tbody').find_elements(By.TAG_NAME, 'tr')\n",
    "auction_data = []\n",
    "for row in table_rows[3:]:\n",
    "    cells = []\n",
    "    data = row.find_elements(By.TAG_NAME,'td')[1:]\n",
    "    \n",
    "    if len(data) == 9:\n",
    "        \n",
    "        cells.append(data[0].text)\n",
    "        cells.append(data[1].text)\n",
    "        cells.append(data[2].text)\n",
    "        \n",
    "        # converting auction date from DD.MM.YYYY format to YYYY-MM-DD format\n",
    "        x = convert_date(data[3].text)\n",
    "        cells.append(x)\n",
    "        cells.append(data[4].text)\n",
    "        try:\n",
    "            # Try to convert the text to a float\n",
    "            value = float(data[5].text)\n",
    "            cells.append(value)\n",
    "        except ValueError:\n",
    "            # If conversion fails, append NaN\n",
    "            cells.append(np.nan)\n",
    "        \n",
    "        # try:\n",
    "        #     # Try to convert the text to a float\n",
    "        #     value = float(data[6].text)\n",
    "        #     cells.append(value)\n",
    "        # except ValueError:\n",
    "        #     # If conversion fails, append NaN\n",
    "        #     cells.append(np.nan)\n",
    "        cells.append(float(data[7].text))\n",
    "        cells.append(data[8].text)\n",
    "        \n",
    "        # cells = [data.text for data in row.find_elements(By.TAG_NAME,'td')[1:]]\n",
    "        auction_data.append(cells)"
   ]
  },
  {
   "cell_type": "code",
   "execution_count": null,
   "metadata": {},
   "outputs": [],
   "source": [
    "row.text"
   ]
  },
  {
   "cell_type": "code",
   "execution_count": null,
   "metadata": {},
   "outputs": [],
   "source": [
    "df = pd.DataFrame(auction_data, columns = headers)"
   ]
  },
  {
   "cell_type": "code",
   "execution_count": null,
   "metadata": {},
   "outputs": [],
   "source": [
    "df.head(5)"
   ]
  },
  {
   "cell_type": "code",
   "execution_count": null,
   "metadata": {},
   "outputs": [],
   "source": [
    "# Save it in postgres database\n",
    "\n",
    "from sqlalchemy import create_engine, Column, Integer, String, Float, Date, MetaData, Table\n",
    "from sqlalchemy.ext.declarative import declarative_base\n",
    "from sqlalchemy.orm import sessionmaker\n",
    "import pandas as pd\n",
    "import os\n",
    "from dotenv import load_dotenv\n",
    "import math\n",
    "\n",
    "# Load environment variables\n",
    "load_dotenv(override=True)\n",
    "\n",
    "# Define the PostgreSQL connection string\n",
    "connection_string = os.getenv('POSTGRES_DB_URL')\n",
    "\n",
    "# Create the SQLAlchemy engine for PostgreSQL\n",
    "engine = create_engine(connection_string)\n",
    "\n",
    "# Define the base for the declarative mapping\n",
    "Base = declarative_base()\n",
    "\n",
    "# Define the table schema for PostgreSQL\n",
    "class AuctionData(Base):\n",
    "    __tablename__ = 'mom_auction'\n",
    "    id = Column(Integer, primary_key=True, autoincrement=True)  # Auto-incrementing ID\n",
    "    state_name = Column(String(255))\n",
    "    name_of_the_block = Column(String(255))\n",
    "    mineral = Column(String(255))\n",
    "    auction_date = Column(Date)\n",
    "    ml_or_cl = Column(String(10))\n",
    "    area_in_hectare = Column(Float)\n",
    "    final_bid_in_per_cent = Column(Float)\n",
    "    preferred_bidder = Column(String(255))\n",
    "\n",
    "# Create the table in the PostgreSQL database\n",
    "Base.metadata.create_all(engine)\n",
    "\n",
    "# Prepare your DataFrame (scraped data already processed in df)\n",
    "\n",
    "# Define a session to interact with the PostgreSQL database\n",
    "Session = sessionmaker(bind=engine)\n",
    "session = Session()\n",
    "\n",
    "# Convert the DataFrame to a list of dictionaries, compatible with SQLAlchemy ORM\n",
    "auction_data_dicts = df.to_dict(orient='records')\n",
    "\n",
    "# Insert data into the auction_data table\n",
    "for record in auction_data_dicts:\n",
    "    # Replace nan with None for PostgreSQL compatibility\n",
    "    record = {key: (None if (isinstance(value, float) and math.isnan(value)) else value) \n",
    "              for key, value in record.items()}\n",
    "    \n",
    "    auction_entry = AuctionData(**record)  # Unpack the dictionary into the ORM object\n",
    "    session.add(auction_entry)\n",
    "\n",
    "# Commit the transaction\n",
    "session.commit()\n",
    "\n",
    "print(\"Data inserted successfully into PostgreSQL!\")\n",
    "\n",
    "# Close the session\n",
    "session.close()"
   ]
  }
 ],
 "metadata": {
  "kernelspec": {
   "display_name": "myenv",
   "language": "python",
   "name": "python3"
  },
  "language_info": {
   "codemirror_mode": {
    "name": "ipython",
    "version": 3
   },
   "file_extension": ".py",
   "mimetype": "text/x-python",
   "name": "python",
   "nbconvert_exporter": "python",
   "pygments_lexer": "ipython3",
   "version": "3.13.1"
  }
 },
 "nbformat": 4,
 "nbformat_minor": 2
}
