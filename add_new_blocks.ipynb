{
 "cells": [
  {
   "cell_type": "code",
   "execution_count": 92,
   "metadata": {},
   "outputs": [],
   "source": [
    "# Ministry of Mines Auction Database URL\n",
    "# url = 'https://mines.gov.in/webportal/content/archived/successful-auction-since-2015-6194' -- Depreciated\n",
    "url = 'https://mines.gov.in/webportal/content/archived/sucessfully-auction-since-2015-6715'"
   ]
  },
  {
   "cell_type": "code",
   "execution_count": 93,
   "metadata": {},
   "outputs": [],
   "source": [
    "# importing Library \n",
    "from selenium import webdriver\n",
    "from selenium.webdriver.chrome.service import Service\n",
    "from selenium.webdriver.chrome.options import Options\n",
    "from webdriver_manager.chrome import ChromeDriverManager\n",
    "from selenium.webdriver.common.by import By\n",
    "import time\n",
    "import pandas as pd\n",
    "from datetime import datetime\n",
    "import numpy as np\n",
    "from sqlalchemy import create_engine, Column, Integer, String, Float, Date, MetaData, Table\n",
    "from sqlalchemy.ext.declarative import declarative_base\n",
    "from sqlalchemy.orm import sessionmaker\n",
    "import pandas as pd\n",
    "import os\n",
    "from dotenv import load_dotenv\n",
    "import math"
   ]
  },
  {
   "cell_type": "code",
   "execution_count": 94,
   "metadata": {},
   "outputs": [],
   "source": [
    "# triggering the chrome testing browser\n",
    "chrome_options = Options()\n",
    "chrome_options.use_chromium = True\n",
    "\n",
    "driver = webdriver.Chrome(service=Service(ChromeDriverManager().install()), options=chrome_options)\n",
    "driver.get(url)"
   ]
  },
  {
   "cell_type": "code",
   "execution_count": 95,
   "metadata": {},
   "outputs": [],
   "source": [
    "headers = ['state','name_of_the_block','mineral','auction_date', 'ml_or_cl', 'area_in_hectare',\n",
    "          'final_bid_in_per_cent','preferred_bidder']"
   ]
  },
  {
   "cell_type": "code",
   "execution_count": 96,
   "metadata": {},
   "outputs": [
    {
     "name": "stdout",
     "output_type": "stream",
     "text": [
      "(datetime.date(2024, 11, 20),)\n"
     ]
    }
   ],
   "source": [
    "# collect all the block names from PostgreSQL\n",
    "import psycopg2\n",
    "import os\n",
    "from dotenv import load_dotenv\n",
    "from psycopg2 import sql\n",
    "\n",
    "load_dotenv(override=True)\n",
    "\n",
    "database_url = os.getenv('DATABASE_URL')\n",
    "\n",
    "try:\n",
    "    connection = psycopg2.connect(database_url)\n",
    "    cursor = connection.cursor()\n",
    "\n",
    "    table_name = 'mom_auction'\n",
    "    column_name = 'auction_date'\n",
    "    query = sql.SQL(\"SELECT {column} from {table} order by {column} desc\").format(\n",
    "        column = sql.Identifier(column_name),\n",
    "        table = sql.Identifier(table_name)\n",
    "    )\n",
    "\n",
    "    cursor.execute(query)\n",
    "\n",
    "    rows = cursor.fetchall()\n",
    "    # column_values = {row[0] for row in rows}\n",
    "    # print(column_values)\n",
    "    print(rows[0])\n",
    "\n",
    "except Exception as e:\n",
    "    print(f\"Error: {e}\")\n",
    "\n",
    "finally:\n",
    "\n",
    "    if cursor:\n",
    "        cursor.close()\n",
    "    if connection:\n",
    "        connection.close()\n"
   ]
  },
  {
   "cell_type": "code",
   "execution_count": 97,
   "metadata": {},
   "outputs": [
    {
     "data": {
      "text/plain": [
       "datetime.date(2024, 11, 20)"
      ]
     },
     "execution_count": 97,
     "metadata": {},
     "output_type": "execute_result"
    }
   ],
   "source": [
    "# last date till scrapping has been done include\n",
    "last_date = rows[0][0]\n",
    "last_date"
   ]
  },
  {
   "cell_type": "code",
   "execution_count": 98,
   "metadata": {},
   "outputs": [],
   "source": [
    "def convert_date(date_str):\n",
    "    try:\n",
    "        date_obj = datetime.strptime(date_str, '%d.%m.%Y')\n",
    "        return date_obj.strftime('%Y-%m-%d')\n",
    "    except ValueError:\n",
    "        try:\n",
    "            date_obj = datetime.strptime(date_str, '%d-%m-%Y')\n",
    "            return date_obj.strftime('%Y-%m-%d')\n",
    "        except ValueError:\n",
    "            date_obj = datetime.strptime(date_str, '%d%m.%Y.')\n",
    "            return date_obj.strftime('%Y-%m-%d')"
   ]
  },
  {
   "cell_type": "code",
   "execution_count": 107,
   "metadata": {},
   "outputs": [
    {
     "data": {
      "text/plain": [
       "datetime.date(2024, 10, 23)"
      ]
     },
     "execution_count": 107,
     "metadata": {},
     "output_type": "execute_result"
    }
   ],
   "source": [
    "last_date = datetime.strptime('2024-10-23', '%Y-%m-%d').date()\n",
    "last_date"
   ]
  },
  {
   "cell_type": "code",
   "execution_count": 108,
   "metadata": {},
   "outputs": [
    {
     "name": "stdout",
     "output_type": "stream",
     "text": [
      "2024-10-23 2024-10-23\n",
      "2024-10-23 2024-10-23\n"
     ]
    }
   ],
   "source": [
    "table_rows = driver.find_element(By.TAG_NAME,'tbody').find_elements(By.TAG_NAME, 'tr')\n",
    "auction_data = []\n",
    "cnt = 0\n",
    "for row in table_rows[3:]:\n",
    "    cells = []\n",
    "    data = row.find_elements(By.TAG_NAME,'td')[1:]\n",
    "    \n",
    "    if len(data) == 9:        \n",
    "\n",
    "        # converting auction date from DD.MM.YYYY format to YYYY-MM-DD format\n",
    "        x = convert_date(data[3].text)\n",
    "\n",
    "        \n",
    "        # # if the date of the block is less than the last date till scrapping is done \n",
    "        # # we can avoid adding the data\n",
    "\n",
    "        cnt+=1\n",
    "        \n",
    "        # if datetime.strptime(x,'%Y-%m-%d').date() < last_date:\n",
    "        #     continue\n",
    "\n",
    "        if datetime.strptime(x,'%Y-%m-%d').date() != last_date:\n",
    "            continue\n",
    "\n",
    "        print(x, last_date)\n",
    "        cells.append(data[0].text)\n",
    "        cells.append(data[1].text)\n",
    "        cells.append(data[2].text)\n",
    "        cells.append(x)\n",
    "        cells.append(data[4].text)\n",
    "        try:\n",
    "            # Try to convert the text to a float\n",
    "            value = float(data[5].text)\n",
    "            cells.append(value)\n",
    "        except ValueError:\n",
    "            # If conversion fails, append NaN\n",
    "            cells.append(np.nan)\n",
    "        \n",
    "        \n",
    "        cells.append(float(data[7].text))\n",
    "        cells.append(data[8].text)\n",
    "        \n",
    "        # cells = [data.text for data in row.find_elements(By.TAG_NAME,'td')[1:]]\n",
    "        auction_data.append(cells)\n"
   ]
  },
  {
   "cell_type": "code",
   "execution_count": 109,
   "metadata": {},
   "outputs": [
    {
     "data": {
      "text/plain": [
       "2"
      ]
     },
     "execution_count": 109,
     "metadata": {},
     "output_type": "execute_result"
    }
   ],
   "source": [
    "len(auction_data)"
   ]
  },
  {
   "cell_type": "code",
   "execution_count": 110,
   "metadata": {},
   "outputs": [],
   "source": [
    "df = pd.DataFrame(auction_data, columns = headers)"
   ]
  },
  {
   "cell_type": "code",
   "execution_count": 112,
   "metadata": {},
   "outputs": [],
   "source": [
    "df = df.tail(1)"
   ]
  },
  {
   "cell_type": "code",
   "execution_count": 113,
   "metadata": {},
   "outputs": [
    {
     "data": {
      "text/html": [
       "<div>\n",
       "<style scoped>\n",
       "    .dataframe tbody tr th:only-of-type {\n",
       "        vertical-align: middle;\n",
       "    }\n",
       "\n",
       "    .dataframe tbody tr th {\n",
       "        vertical-align: top;\n",
       "    }\n",
       "\n",
       "    .dataframe thead th {\n",
       "        text-align: right;\n",
       "    }\n",
       "</style>\n",
       "<table border=\"1\" class=\"dataframe\">\n",
       "  <thead>\n",
       "    <tr style=\"text-align: right;\">\n",
       "      <th></th>\n",
       "      <th>state</th>\n",
       "      <th>name_of_the_block</th>\n",
       "      <th>mineral</th>\n",
       "      <th>auction_date</th>\n",
       "      <th>ml_or_cl</th>\n",
       "      <th>area_in_hectare</th>\n",
       "      <th>final_bid_in_per_cent</th>\n",
       "      <th>preferred_bidder</th>\n",
       "    </tr>\n",
       "  </thead>\n",
       "  <tbody>\n",
       "    <tr>\n",
       "      <th>1</th>\n",
       "      <td>Central Government/Maharashtra</td>\n",
       "      <td>Vadakhol-Asoli Block</td>\n",
       "      <td>Ni, Cr, Co and Associated Mineral\\nMineral</td>\n",
       "      <td>2024-10-23</td>\n",
       "      <td>CL</td>\n",
       "      <td>1475.972</td>\n",
       "      <td>7.05</td>\n",
       "      <td>Assam Mineral Development Corporation Limited</td>\n",
       "    </tr>\n",
       "  </tbody>\n",
       "</table>\n",
       "</div>"
      ],
      "text/plain": [
       "                            state     name_of_the_block  \\\n",
       "1  Central Government/Maharashtra  Vadakhol-Asoli Block   \n",
       "\n",
       "                                      mineral auction_date ml_or_cl  \\\n",
       "1  Ni, Cr, Co and Associated Mineral\\nMineral   2024-10-23       CL   \n",
       "\n",
       "   area_in_hectare  final_bid_in_per_cent  \\\n",
       "1         1475.972                   7.05   \n",
       "\n",
       "                                preferred_bidder  \n",
       "1  Assam Mineral Development Corporation Limited  "
      ]
     },
     "execution_count": 113,
     "metadata": {},
     "output_type": "execute_result"
    }
   ],
   "source": [
    "df"
   ]
  },
  {
   "cell_type": "code",
   "execution_count": 104,
   "metadata": {},
   "outputs": [
    {
     "data": {
      "text/html": [
       "<div>\n",
       "<style scoped>\n",
       "    .dataframe tbody tr th:only-of-type {\n",
       "        vertical-align: middle;\n",
       "    }\n",
       "\n",
       "    .dataframe tbody tr th {\n",
       "        vertical-align: top;\n",
       "    }\n",
       "\n",
       "    .dataframe thead th {\n",
       "        text-align: right;\n",
       "    }\n",
       "</style>\n",
       "<table border=\"1\" class=\"dataframe\">\n",
       "  <thead>\n",
       "    <tr style=\"text-align: right;\">\n",
       "      <th></th>\n",
       "      <th>state</th>\n",
       "      <th>name_of_the_block</th>\n",
       "      <th>mineral</th>\n",
       "      <th>auction_date</th>\n",
       "      <th>ml_or_cl</th>\n",
       "      <th>area_in_hectare</th>\n",
       "      <th>final_bid_in_per_cent</th>\n",
       "      <th>preferred_bidder</th>\n",
       "    </tr>\n",
       "  </thead>\n",
       "  <tbody>\n",
       "    <tr>\n",
       "      <th>2</th>\n",
       "      <td>Central Government/Jharkhand</td>\n",
       "      <td>Ponchi Block</td>\n",
       "      <td>Graphite</td>\n",
       "      <td>2024-10-22</td>\n",
       "      <td>ML</td>\n",
       "      <td>10.0</td>\n",
       "      <td>752.1</td>\n",
       "      <td>Satguru Mining Private Limited</td>\n",
       "    </tr>\n",
       "  </tbody>\n",
       "</table>\n",
       "</div>"
      ],
      "text/plain": [
       "                          state name_of_the_block    mineral auction_date  \\\n",
       "2  Central Government/Jharkhand      Ponchi Block  Graphite    2024-10-22   \n",
       "\n",
       "  ml_or_cl  area_in_hectare  final_bid_in_per_cent  \\\n",
       "2       ML             10.0                  752.1   \n",
       "\n",
       "                 preferred_bidder  \n",
       "2  Satguru Mining Private Limited  "
      ]
     },
     "execution_count": 104,
     "metadata": {},
     "output_type": "execute_result"
    }
   ],
   "source": []
  },
  {
   "cell_type": "code",
   "execution_count": 114,
   "metadata": {},
   "outputs": [
    {
     "name": "stdout",
     "output_type": "stream",
     "text": [
      "Data inserted successfully!\n"
     ]
    }
   ],
   "source": [
    "database_url = os.getenv('DATABASE_URL')\n",
    "try:\n",
    "    connection = psycopg2.connect(database_url)\n",
    "    cursor = connection.cursor()\n",
    "\n",
    "    query = \"\"\"\n",
    "    INSERT INTO mom_auction(\n",
    "        state,\n",
    "        name_of_the_block,\n",
    "        mineral,\n",
    "        auction_date,\n",
    "        ml_or_cl,\n",
    "        area_in_hectare,\n",
    "        final_bid_in_per_cent,\n",
    "        preferred_bidder\n",
    "    \n",
    "    ) VALUES (%s, %s, %s, %s, %s, %s, %s, %s);\n",
    "    \"\"\"\n",
    "\n",
    "    # Iterate over DataFrame rows and insert data\n",
    "    for index, row in df.iterrows():\n",
    "        cursor.execute(query, (\n",
    "            row['state'],\n",
    "            row['name_of_the_block'],\n",
    "            row['mineral'],\n",
    "            row['auction_date'],  # Ensure auction_date is in the correct format\n",
    "            row['ml_or_cl'],\n",
    "            row['area_in_hectare'],\n",
    "            row['final_bid_in_per_cent'],\n",
    "            row['preferred_bidder']\n",
    "        ))\n",
    "    \n",
    "    # Commit the transaction\n",
    "    connection.commit()\n",
    "    print(\"Data inserted successfully!\")\n",
    "except Exception as e:\n",
    "    print(f\"Error: {e}\")\n",
    "\n",
    "finally:\n",
    "    # Close the connection\n",
    "    if cursor:\n",
    "        cursor.close()\n",
    "    if connection:\n",
    "        connection.close()\n"
   ]
  }
 ],
 "metadata": {
  "kernelspec": {
   "display_name": "myenv",
   "language": "python",
   "name": "python3"
  },
  "language_info": {
   "codemirror_mode": {
    "name": "ipython",
    "version": 3
   },
   "file_extension": ".py",
   "mimetype": "text/x-python",
   "name": "python",
   "nbconvert_exporter": "python",
   "pygments_lexer": "ipython3",
   "version": "3.13.1"
  }
 },
 "nbformat": 4,
 "nbformat_minor": 2
}
